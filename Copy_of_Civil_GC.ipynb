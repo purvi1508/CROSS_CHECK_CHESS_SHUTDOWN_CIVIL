{
  "cells": [
    {
      "cell_type": "code",
      "execution_count": null,
      "metadata": {
        "id": "GK1mjgJd7sYw",
        "colab": {
          "base_uri": "https://localhost:8080/"
        },
        "outputId": "38c322e0-1ed6-4f65-851b-77be1c069b18"
      },
      "outputs": [
        {
          "output_type": "stream",
          "name": "stdout",
          "text": [
            "Looking in indexes: https://pypi.org/simple, https://us-python.pkg.dev/colab-wheels/public/simple/\n",
            "Requirement already satisfied: chess in /usr/local/lib/python3.9/dist-packages (1.9.4)\n"
          ]
        }
      ],
      "source": [
        "!pip install chess"
      ]
    },
    {
      "cell_type": "code",
      "source": [
        "import chess\n",
        "\n",
        "# Define the modified moves for pawns\n",
        "def my_pawn_moves(board, from_square):\n",
        "    # Pawns move diagonally one step\n",
        "    moves = []\n",
        "    piece = board.piece_at(from_square)\n",
        "    if piece.color == chess.WHITE:\n",
        "        target_squares = [from_square + 7, from_square + 9]\n",
        "    else:\n",
        "        target_squares = [from_square - 7, from_square - 9]\n",
        "\n",
        "    for target_square in target_squares:\n",
        "        if chess.square_rank(target_square) != chess.square_rank(from_square):\n",
        "            continue\n",
        "        if not board.is_empty(target_square):\n",
        "            continue\n",
        "        moves.append(chess.Move(from_square, target_square))\n",
        "\n",
        "    return moves\n",
        "\n",
        "def my_pawn_captures(board, from_square, to_square):\n",
        "    # Pawns capture forward one step\n",
        "    moves = []\n",
        "    piece = board.piece_at(from_square)\n",
        "    if piece.color == chess.WHITE:\n",
        "        target_square = to_square + 8\n",
        "    else:\n",
        "        target_square = to_square - 8\n",
        "\n",
        "    if chess.square_file(target_square) == chess.square_file(to_square):\n",
        "        if board.is_empty(target_square):\n",
        "            moves.append(chess.Move(from_square, target_square))\n",
        "        elif board.piece_at(target_square).color != piece.color:\n",
        "            moves.append(chess.Move(from_square, target_square))\n",
        "\n",
        "    return moves\n",
        "\n",
        "# Function to remove original pawn moves and captures\n",
        "def remove_original_pawn_moves(legal_moves, board):\n",
        "    for move in list(legal_moves):\n",
        "        if board.piece_at(move.from_square).piece_type == chess.PAWN:\n",
        "            if move.to_square == board.ep_square:\n",
        "                legal_moves.remove(move)\n",
        "                legal_moves.extend(my_pawn_captures(board, move.from_square, move.to_square))\n",
        "            elif chess.square_file(move.from_square) != chess.square_file(move.to_square) and board.is_empty(move.to_square):\n",
        "                legal_moves.remove(move)\n",
        "                legal_moves.extend(my_pawn_moves(board, move.from_square))\n",
        "            elif abs(move.to_square - move.from_square) == 16:\n",
        "                legal_moves.remove(move)\n",
        "\n",
        "    return legal_moves\n",
        "\n",
        "# Implement the win condition\n",
        "def check_win_condition(board):\n",
        "    if board.is_checkmate():\n",
        "        if board.turn == chess.WHITE:\n",
        "            print(\"Black wins\")\n",
        "        else:\n",
        "            print(\"White wins\")\n",
        "        return True\n",
        "    elif board.can_claim_draw():\n",
        "        print(\"Draw\")\n",
        "        return True\n",
        "    else:\n",
        "        return False\n",
        "\n",
        "# Function to get all possible legal moves\n",
        "\"\"\"def get_legal_moves(board):\n",
        "    legal_moves = list(board.legal_moves)\n",
        "\n",
        "    # Remove original pawn moves and captures\n",
        "    legal_moves = remove_original_pawn_moves(legal_moves, board)\n",
        "\n",
        "    return legal_moves\"\"\"\n",
        "\n",
        "# Function to get all possible legal moves\n",
        "def get_legal_moves(board):\n",
        "    legal_moves = list(board.legal_moves)\n",
        "\n",
        "    # Check for modified pawn moves and captures\n",
        "    for move in list(legal_moves):\n",
        "        piece = board.piece_at(move.from_square)\n",
        "        if piece.piece_type == chess.PAWN:\n",
        "            # Remove the original moves in which pawns move forward or capture diagonally\n",
        "            if move.to_square == board.ep_square or chess.square_file(move.from_square) != chess.square_file(move.to_square):\n",
        "                legal_moves.remove(move)\n",
        "            # Remove the move in which pawns move two steps forward\n",
        "            if abs(chess.square_rank(move.to_square) - chess.square_rank(move.from_square)) == 2:\n",
        "                legal_moves.remove(move)\n",
        "            # Add the modified moves in which pawns move diagonally one step and capture forward one step\n",
        "            else:\n",
        "                legal_moves.remove(move)\n",
        "                legal_moves.extend(my_pawn_moves(board, move.from_square))\n",
        "                legal_moves.extend(my_pawn_captures(board, move.from_square, move.to_square))\n",
        "\n",
        "    return legal_moves\n",
        "\n"
      ],
      "metadata": {
        "id": "-TQklRMzdEJK"
      },
      "execution_count": null,
      "outputs": []
    },
    {
      "cell_type": "code",
      "source": [
        "def evaluate_move(board, move):\n",
        "    piece = board.piece_at(move.from_square)\n",
        "    target = board.piece_at(move.to_square)\n",
        "    reward = 0\n",
        "    \n",
        "    # Check if the move results in a check on the opposite king\n",
        "    if board.gives_check(move):\n",
        "        reward += 1000\n",
        "\n",
        "    # Check if a piece is captured\n",
        "    if target is not None:\n",
        "        reward += 100 + 10 * piece.piece_type\n",
        "\n",
        "    # Move closer to the opponent's king\n",
        "    if piece.color == chess.WHITE:\n",
        "        king_square = board.king(chess.BLACK)\n",
        "        distance_before = chess.square_distance(move.from_square, king_square)\n",
        "        distance_after = chess.square_distance(move.to_square, king_square)\n",
        "    else:\n",
        "        king_square = board.king(chess.WHITE)\n",
        "        distance_before = chess.square_distance(move.from_square, king_square)\n",
        "        distance_after = chess.square_distance(move.to_square, king_square)\n",
        "\n",
        "    if distance_after < distance_before:\n",
        "        reward += 10\n",
        "\n",
        "    # Move towards the center of the board\n",
        "    center_square = chess.E4\n",
        "    center_distance_before = chess.square_distance(move.from_square, center_square)\n",
        "    center_distance_after = chess.square_distance(move.to_square, center_square)\n",
        "\n",
        "    if center_distance_after < center_distance_before:\n",
        "        reward += 5\n",
        "\n",
        "    # Prioritize moves that can move more\n",
        "    piece_value = {\n",
        "        chess.PAWN: 1,\n",
        "        chess.KNIGHT: 3,\n",
        "        chess.BISHOP: 3,\n",
        "        chess.ROOK: 5,\n",
        "        chess.QUEEN: 9,\n",
        "        chess.KING: 0\n",
        "    }\n",
        "    reward += piece_value[piece.piece_type]\n",
        "\n",
        "    return reward\n"
      ],
      "metadata": {
        "id": "-jmabomVV-h0"
      },
      "execution_count": null,
      "outputs": []
    },
    {
      "cell_type": "code",
      "source": [
        "def remove_castling_moves(legal_moves):\n",
        "    \"\"\"Removes castling moves from a list of legal moves.\"\"\"\n",
        "    return [move for move in legal_moves if not move.has_castling_rights()]\n"
      ],
      "metadata": {
        "id": "qhDkgT2SZLqk"
      },
      "execution_count": null,
      "outputs": []
    },
    {
      "cell_type": "code",
      "source": [
        "import chess\n",
        "\n",
        "# create the chess board object\n",
        "board = chess.Board(fen=\"rnbqkbnr/pppppppp/8/8/8/8/PPPPPPPP/RNBQKBNR w KQkq - 0 1\")\n",
        "#board = chess.Board(fen=\"r1bqkbnr/ppp1pppp/2n5/3p4/8/2P5/PP1PPPPP/RNBQKBNR w KQkq - 0 1\")\n",
        "\n",
        "# generate legal moves\n",
        "legal_moves = list(board.generate_legal_moves())\n",
        "#legal_moves = get_legal_moves(legal_moves)\n",
        "\n",
        "# remove castling moves\n",
        "#legal_moves = remove_castling_moves(legal_moves)\n",
        "\n",
        "# evaluate moves\n",
        "for move in legal_moves:\n",
        "    score = evaluate_move(board, move)\n",
        "    print(f\"Move {move} scored {score}\")\n"
      ],
      "metadata": {
        "colab": {
          "base_uri": "https://localhost:8080/"
        },
        "id": "GxZAJ8o2XMgg",
        "outputId": "e7980b93-e7ff-490b-d167-758683f7a375"
      },
      "execution_count": null,
      "outputs": [
        {
          "output_type": "stream",
          "name": "stdout",
          "text": [
            "Move g1h3 scored 13\n",
            "Move g1f3 scored 18\n",
            "Move b1c3 scored 18\n",
            "Move b1a3 scored 13\n",
            "Move h2h3 scored 11\n",
            "Move g2g3 scored 11\n",
            "Move f2f3 scored 16\n",
            "Move e2e3 scored 16\n",
            "Move d2d3 scored 16\n",
            "Move c2c3 scored 11\n",
            "Move b2b3 scored 11\n",
            "Move a2a3 scored 11\n",
            "Move h2h4 scored 11\n",
            "Move g2g4 scored 11\n",
            "Move f2f4 scored 16\n",
            "Move e2e4 scored 16\n",
            "Move d2d4 scored 16\n",
            "Move c2c4 scored 11\n",
            "Move b2b4 scored 11\n",
            "Move a2a4 scored 11\n"
          ]
        }
      ]
    },
    {
      "cell_type": "code",
      "source": [
        "def play(board):\n",
        "  legal_moves = list(board.generate_legal_moves())\n",
        "  d = dict()\n",
        "  for move in legal_moves:\n",
        "    score = evaluate_move(board, move)\n",
        "    d.update({move: score})\n",
        "  s = 0;\n",
        "  for item in d:\n",
        "    if d[item] > s:\n",
        "      out_move = item\n",
        "      s = d[item]\n",
        "  return out_move\n",
        "\n",
        "board = chess.Board(fen=\"r1bqkbnr/ppp1pppp/2n5/3p4/8/2P5/PP1PPPPP/RNBQKBNR w KQkq - 0 1\")\n",
        "\n",
        "print(play(board))"
      ],
      "metadata": {
        "colab": {
          "base_uri": "https://localhost:8080/"
        },
        "id": "7RY1wn6nX9Sg",
        "outputId": "87be048c-3a96-4ad6-bdfc-e52b343814a6"
      },
      "execution_count": null,
      "outputs": [
        {
          "output_type": "stream",
          "name": "stdout",
          "text": [
            "d1c2\n"
          ]
        }
      ]
    },
    {
      "cell_type": "code",
      "source": [],
      "metadata": {
        "id": "fA7jxJ-TggIX"
      },
      "execution_count": null,
      "outputs": []
    }
  ],
  "metadata": {
    "colab": {
      "provenance": []
    },
    "kernelspec": {
      "display_name": "Python 3",
      "name": "python3"
    },
    "language_info": {
      "name": "python"
    }
  },
  "nbformat": 4,
  "nbformat_minor": 0
}